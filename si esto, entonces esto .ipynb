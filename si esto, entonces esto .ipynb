{
 "cells": [
  {
   "cell_type": "code",
   "execution_count": 6,
   "metadata": {},
   "outputs": [
    {
     "name": "stdout",
     "output_type": "stream",
     "text": [
      "a is less than b\n",
      "definitivamente a es menos que b\n",
      "no se si a es menos que b ngl\n"
     ]
    }
   ],
   "source": [
    "a= 1\n",
    "b= 2\n",
    "if a < b:\n",
    "    print (\"a is less than b\")\n",
    "    print (\"definitivamente a es menos que b\")\n",
    "print ( \"no se si a es menos que b ngl\")"
   ]
  },
  {
   "cell_type": "code",
   "execution_count": 9,
   "metadata": {},
   "outputs": [
    {
     "name": "stdout",
     "output_type": "stream",
     "text": [
      "c no es menor que d bruh\n",
      "ayuda esto no es un meme\n"
     ]
    }
   ],
   "source": [
    "c=5\n",
    "d=4\n",
    "if c < d:\n",
    "    print (\"c es menor que d\")\n",
    "else:\n",
    "    print(\"c no es menor que d bruh\")\n",
    "print (\"ayuda esto no es un meme\")\n",
    "    "
   ]
  },
  {
   "cell_type": "code",
   "execution_count": 16,
   "metadata": {},
   "outputs": [
    {
     "name": "stdout",
     "output_type": "stream",
     "text": [
      "g is mayor que h hermano\n"
     ]
    }
   ],
   "source": [
    "g=10\n",
    "h=8\n",
    "if g < h :\n",
    "    print(\"g es menor que h\")\n",
    "else:\n",
    "    if g == h: \n",
    "        print(\"g is equal to h\")\n",
    "    else: \n",
    "        print(\"g is mayor que h hermano\")"
   ]
  },
  {
   "cell_type": "code",
   "execution_count": 19,
   "metadata": {},
   "outputs": [
    {
     "name": "stdout",
     "output_type": "stream",
     "text": [
      "imc:\n",
      "27.776910832995224\n",
      "Pedro\n",
      "esta gordisimo señores\n"
     ]
    }
   ],
   "source": [
    "name = \"Pedro\"\n",
    "height_m = 1.79\n",
    "weight_kg= 89\n",
    "\n",
    "imc = weight_kg / (height_m ** 2)\n",
    "print(\"imc:\")\n",
    "print(imc)\n",
    "if imc < 25:\n",
    "    print (name)\n",
    "    print(\"no tiene sobrepeso\")\n",
    "else:\n",
    "    print(name)\n",
    "    print(\"esta gordisimo señores\")\n",
    "    "
   ]
  },
  {
   "cell_type": "code",
   "execution_count": null,
   "metadata": {},
   "outputs": [],
   "source": []
  }
 ],
 "metadata": {
  "kernelspec": {
   "display_name": "Python 3",
   "language": "python",
   "name": "python3"
  },
  "language_info": {
   "codemirror_mode": {
    "name": "ipython",
    "version": 3
   },
   "file_extension": ".py",
   "mimetype": "text/x-python",
   "name": "python",
   "nbconvert_exporter": "python",
   "pygments_lexer": "ipython3",
   "version": "3.8.5"
  }
 },
 "nbformat": 4,
 "nbformat_minor": 4
}
